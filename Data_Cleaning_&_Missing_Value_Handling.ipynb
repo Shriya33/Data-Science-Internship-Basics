{
  "nbformat": 4,
  "nbformat_minor": 0,
  "metadata": {
    "colab": {
      "provenance": [],
      "authorship_tag": "ABX9TyMYelJGPt3SJONIzL9P4BUZ",
      "include_colab_link": true
    },
    "kernelspec": {
      "name": "python3",
      "display_name": "Python 3"
    },
    "language_info": {
      "name": "python"
    }
  },
  "cells": [
    {
      "cell_type": "markdown",
      "metadata": {
        "id": "view-in-github",
        "colab_type": "text"
      },
      "source": [
        "<a href=\"https://colab.research.google.com/github/Shriya33/Data-Science-Internship-Basics/blob/main/Data_Cleaning_%26_Missing_Value_Handling.ipynb\" target=\"_parent\"><img src=\"https://colab.research.google.com/assets/colab-badge.svg\" alt=\"Open In Colab\"/></a>"
      ]
    },
    {
      "cell_type": "code",
      "execution_count": 1,
      "metadata": {
        "colab": {
          "base_uri": "https://localhost:8080/"
        },
        "id": "HWMvL_eWvN2Y",
        "outputId": "8eb32f9f-7b3b-406d-8081-4f4822beab29"
      },
      "outputs": [
        {
          "output_type": "stream",
          "name": "stdout",
          "text": [
            "Dataset with Missing Values:\n",
            "   total_bill   tip     sex smoker  day    time  size\n",
            "0       16.99  1.01  Female     No  Sun  Dinner     2\n",
            "1       10.34  1.66    Male     No  Sun  Dinner     3\n",
            "2       21.01   NaN    Male     No  Sun  Dinner     3\n",
            "3       23.68   NaN    Male     No  Sun  Dinner     2\n",
            "4       24.59   NaN  Female     No  Sun  Dinner     4\n",
            "5       25.29  4.71    Male     No  Sun  Dinner     4\n",
            "6        8.77  2.00    Male     No  Sun  Dinner     2\n",
            "7       26.88  3.12    Male     No  Sun  Dinner     4\n",
            "8       15.04  1.96    Male     No  Sun  Dinner     2\n",
            "9       14.78  3.23    Male     No  Sun  Dinner     2\n",
            "\n",
            "Cleaned Dataset:\n",
            "   total_bill       tip     sex smoker  day    time  size\n",
            "0       16.99  1.010000  Female     No  Sun  Dinner     2\n",
            "1       10.34  1.660000    Male     No  Sun  Dinner     3\n",
            "2       21.01  2.992365    Male     No  Sun  Dinner     3\n",
            "3       23.68  2.992365    Male     No  Sun  Dinner     2\n",
            "4       24.59  2.992365  Female     No  Sun  Dinner     4\n",
            "5       25.29  4.710000    Male     No  Sun  Dinner     4\n",
            "6        8.77  2.000000    Male     No  Sun  Dinner     2\n",
            "7       26.88  3.120000    Male     No  Sun  Dinner     4\n",
            "8       15.04  1.960000    Male     No  Sun  Dinner     2\n",
            "9       14.78  3.230000    Male     No  Sun  Dinner     2\n"
          ]
        },
        {
          "output_type": "stream",
          "name": "stderr",
          "text": [
            "<ipython-input-1-7086b1918b07>:14: FutureWarning: A value is trying to be set on a copy of a DataFrame or Series through chained assignment using an inplace method.\n",
            "The behavior will change in pandas 3.0. This inplace method will never work because the intermediate object on which we are setting values always behaves as a copy.\n",
            "\n",
            "For example, when doing 'df[col].method(value, inplace=True)', try using 'df.method({col: value}, inplace=True)' or df[col] = df[col].method(value) instead, to perform the operation inplace on the original object.\n",
            "\n",
            "\n",
            "  df['tip'].fillna(df['tip'].mean(), inplace=True)\n",
            "<ipython-input-1-7086b1918b07>:15: FutureWarning: A value is trying to be set on a copy of a DataFrame or Series through chained assignment using an inplace method.\n",
            "The behavior will change in pandas 3.0. This inplace method will never work because the intermediate object on which we are setting values always behaves as a copy.\n",
            "\n",
            "For example, when doing 'df[col].method(value, inplace=True)', try using 'df.method({col: value}, inplace=True)' or df[col] = df[col].method(value) instead, to perform the operation inplace on the original object.\n",
            "\n",
            "\n",
            "  df['sex'].fillna(df['sex'].mode()[0], inplace=True)\n",
            "<ipython-input-1-7086b1918b07>:16: FutureWarning: A value is trying to be set on a copy of a DataFrame or Series through chained assignment using an inplace method.\n",
            "The behavior will change in pandas 3.0. This inplace method will never work because the intermediate object on which we are setting values always behaves as a copy.\n",
            "\n",
            "For example, when doing 'df[col].method(value, inplace=True)', try using 'df.method({col: value}, inplace=True)' or df[col] = df[col].method(value) instead, to perform the operation inplace on the original object.\n",
            "\n",
            "\n",
            "  df['day'].fillna(df['day'].mode()[0], inplace=True)\n"
          ]
        }
      ],
      "source": [
        "import pandas as pd\n",
        "import numpy as np\n",
        "import seaborn as sns\n",
        "\n",
        "df = sns.load_dataset('tips')\n",
        "\n",
        "df.iloc[2:5, 1] = np.nan\n",
        "df.iloc[10:15, 3] = np.nan\n",
        "df.iloc[20:25, 5] = np.nan\n",
        "\n",
        "print(\"Dataset with Missing Values:\")\n",
        "print(df.head(10))\n",
        "\n",
        "df['tip'].fillna(df['tip'].mean(), inplace=True)\n",
        "df['sex'].fillna(df['sex'].mode()[0], inplace=True)\n",
        "df['day'].fillna(df['day'].mode()[0], inplace=True)\n",
        "\n",
        "df.drop_duplicates(inplace=True)\n",
        "\n",
        "df.columns = df.columns.str.lower().str.replace(' ', '_')\n",
        "\n",
        "print(\"\\nCleaned Dataset:\")\n",
        "print(df.head(10))"
      ]
    }
  ]
}