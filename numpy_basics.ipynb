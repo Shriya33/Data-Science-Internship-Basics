{
  "nbformat": 4,
  "nbformat_minor": 0,
  "metadata": {
    "colab": {
      "provenance": [],
      "authorship_tag": "ABX9TyPQE1maxTQ/XVVRjraZDiYh",
      "include_colab_link": true
    },
    "kernelspec": {
      "name": "python3",
      "display_name": "Python 3"
    },
    "language_info": {
      "name": "python"
    }
  },
  "cells": [
    {
      "cell_type": "markdown",
      "metadata": {
        "id": "view-in-github",
        "colab_type": "text"
      },
      "source": [
        "<a href=\"https://colab.research.google.com/github/Shriya33/Data-Science-Internship-Basics/blob/main/numpy_basics.ipynb\" target=\"_parent\"><img src=\"https://colab.research.google.com/assets/colab-badge.svg\" alt=\"Open In Colab\"/></a>"
      ]
    },
    {
      "cell_type": "code",
      "execution_count": 1,
      "metadata": {
        "colab": {
          "base_uri": "https://localhost:8080/"
        },
        "id": "S8KpB1lRDmfD",
        "outputId": "15d79ab3-ae4f-4607-e96f-e23a09320bbc"
      },
      "outputs": [
        {
          "output_type": "stream",
          "name": "stdout",
          "text": [
            "Random Array (0 to 50):\n",
            "[17 23 30 19 18 18 44 15 42  9]\n",
            "\n",
            "Basic Operations:\n",
            "Sum: 235\n",
            "Mean: 23.5\n",
            "Max: 44\n",
            "Min: 9\n"
          ]
        }
      ],
      "source": [
        "import numpy as np\n",
        "\n",
        "# Create a NumPy array with random integers between 0 and 50\n",
        "random_array = np.random.randint(0, 51, size=10)  # Generates 10 random integers between 0 and 50\n",
        "print(\"Random Array (0 to 50):\")\n",
        "print(random_array)\n",
        "array_sum = np.sum(random_array)  # Sum of all elements\n",
        "array_mean = np.mean(random_array)  # Mean of the array\n",
        "array_max = np.max(random_array)  # Maximum value in the array\n",
        "array_min = np.min(random_array)  # Minimum value in the array\n",
        "\n",
        "# Print the results\n",
        "print(\"\\nBasic Operations:\")\n",
        "print(f\"Sum: {array_sum}\")\n",
        "print(f\"Mean: {array_mean}\")\n",
        "print(f\"Max: {array_max}\")\n",
        "print(f\"Min: {array_min}\")"
      ]
    }
  ]
}