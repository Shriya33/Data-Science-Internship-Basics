{
  "nbformat": 4,
  "nbformat_minor": 0,
  "metadata": {
    "colab": {
      "provenance": [],
      "authorship_tag": "ABX9TyOjz0xAR7oLLRCn4LzytbLR",
      "include_colab_link": true
    },
    "kernelspec": {
      "name": "python3",
      "display_name": "Python 3"
    },
    "language_info": {
      "name": "python"
    }
  },
  "cells": [
    {
      "cell_type": "markdown",
      "metadata": {
        "id": "view-in-github",
        "colab_type": "text"
      },
      "source": [
        "<a href=\"https://colab.research.google.com/github/Shriya33/Data-Science-Internship-Basics/blob/main/week_3_.ipynb\" target=\"_parent\"><img src=\"https://colab.research.google.com/assets/colab-badge.svg\" alt=\"Open In Colab\"/></a>"
      ]
    },
    {
      "cell_type": "code",
      "execution_count": 1,
      "metadata": {
        "colab": {
          "base_uri": "https://localhost:8080/"
        },
        "id": "vS2E_HOoc2so",
        "outputId": "4a6cbc0c-6b2f-47ad-e72f-4733c5f768c4"
      },
      "outputs": [
        {
          "output_type": "stream",
          "name": "stdout",
          "text": [
            "Sample Data:\n",
            "     sepal length (cm)  sepal width (cm)  petal length (cm)  petal width (cm)  \\\n",
            "73                 6.1               2.8                4.7               1.2   \n",
            "18                 5.7               3.8                1.7               0.3   \n",
            "118                7.7               2.6                6.9               2.3   \n",
            "78                 6.0               2.9                4.5               1.5   \n",
            "76                 6.8               2.8                4.8               1.4   \n",
            "\n",
            "     target  \n",
            "73        1  \n",
            "18        0  \n",
            "118       2  \n",
            "78        1  \n",
            "76        1  \n",
            "\n",
            " Logistic Regression Model Performance:\n",
            "Accuracy: 0.93\n",
            "Classification Report:\n",
            "              precision    recall  f1-score   support\n",
            "\n",
            "           0       1.00      1.00      1.00        10\n",
            "           1       0.90      0.90      0.90        10\n",
            "           2       0.90      0.90      0.90        10\n",
            "\n",
            "    accuracy                           0.93        30\n",
            "   macro avg       0.93      0.93      0.93        30\n",
            "weighted avg       0.93      0.93      0.93        30\n",
            "\n",
            "\n",
            " Linear Regression Model Performance:\n",
            "Mean Squared Error (MSE): 0.06\n"
          ]
        }
      ],
      "source": [
        "# Import necessary libraries\n",
        "import numpy as np\n",
        "import pandas as pd\n",
        "import matplotlib.pyplot as plt\n",
        "from sklearn.model_selection import train_test_split\n",
        "from sklearn.preprocessing import StandardScaler\n",
        "from sklearn.linear_model import LogisticRegression, LinearRegression\n",
        "from sklearn.metrics import accuracy_score, classification_report, mean_squared_error\n",
        "from sklearn.datasets import load_iris\n",
        "\n",
        "# Load the Iris dataset\n",
        "data = load_iris()\n",
        "df = pd.DataFrame(data.data, columns=data.feature_names)\n",
        "df['target'] = data.target  # Ensure correct target assignment\n",
        "\n",
        "# Print a random sample (instead of first 5 rows) to show all target values\n",
        "print(\"Sample Data:\")\n",
        "print(df.sample(5, random_state=42))  # Random sample to ensure 0,1,2 appear\n",
        "print()  # Newline for better formatting\n",
        "\n",
        "# Split the dataset into training (80%) and testing (20%) sets\n",
        "X = df.drop(columns=['target'])\n",
        "y = df['target']\n",
        "X_train, X_test, y_train, y_test = train_test_split(X, y, test_size=0.2, random_state=42, stratify=y)\n",
        "\n",
        "# Standardize the data\n",
        "scaler = StandardScaler()\n",
        "X_train = scaler.fit_transform(X_train)\n",
        "X_test = scaler.transform(X_test)\n",
        "\n",
        "# Train a logistic regression model\n",
        "log_model = LogisticRegression(max_iter=200)\n",
        "log_model.fit(X_train, y_train)\n",
        "\n",
        "# Make predictions using Logistic Regression\n",
        "y_pred = log_model.predict(X_test)\n",
        "\n",
        "# Evaluate the Logistic Regression model\n",
        "log_accuracy = accuracy_score(y_test, y_pred)\n",
        "log_report = classification_report(y_test, y_pred)\n",
        "\n",
        "print(\" Logistic Regression Model Performance:\")\n",
        "print(f\"Accuracy: {log_accuracy:.2f}\")\n",
        "print(\"Classification Report:\")\n",
        "print(log_report)  # Print without extra formatting\n",
        "print()  # Newline for better formatting\n",
        "\n",
        "# Train a linear regression model for numerical predictions\n",
        "lin_model = LinearRegression()\n",
        "lin_model.fit(X_train, y_train)\n",
        "\n",
        "# Make predictions using Linear Regression\n",
        "y_pred_lin = lin_model.predict(X_test)\n",
        "\n",
        "# Evaluate the Linear Regression model using Mean Squared Error (MSE)\n",
        "mse = mean_squared_error(y_test, y_pred_lin)\n",
        "print(\" Linear Regression Model Performance:\")\n",
        "print(f\"Mean Squared Error (MSE): {mse:.2f}\")"
      ]
    }
  ]
}