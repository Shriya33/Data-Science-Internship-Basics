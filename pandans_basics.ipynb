{
  "nbformat": 4,
  "nbformat_minor": 0,
  "metadata": {
    "colab": {
      "provenance": [],
      "authorship_tag": "ABX9TyMUF3QCUF5BCpelRROjuoHr",
      "include_colab_link": true
    },
    "kernelspec": {
      "name": "python3",
      "display_name": "Python 3"
    },
    "language_info": {
      "name": "python"
    }
  },
  "cells": [
    {
      "cell_type": "markdown",
      "metadata": {
        "id": "view-in-github",
        "colab_type": "text"
      },
      "source": [
        "<a href=\"https://colab.research.google.com/github/Shriya33/Data-Science-Internship-Basics/blob/main/pandans_basics.ipynb\" target=\"_parent\"><img src=\"https://colab.research.google.com/assets/colab-badge.svg\" alt=\"Open In Colab\"/></a>"
      ]
    },
    {
      "cell_type": "code",
      "execution_count": null,
      "metadata": {
        "colab": {
          "base_uri": "https://localhost:8080/"
        },
        "id": "uaWhkykGMJRr",
        "outputId": "81b4fdd6-72cf-4258-b002-21f28d7f0886"
      },
      "outputs": [
        {
          "output_type": "stream",
          "name": "stdout",
          "text": [
            "sample_data.csv has been created.\n"
          ]
        }
      ],
      "source": [
        "import pandas as pd\n",
        "\n",
        "# Sample data\n",
        "data = {\n",
        "    \"Name\": [\"Alice\", \"Bob\", \"Charlie\", \"David\", \"Eve\", \"Frank\", \"Grace\"],\n",
        "    \"Age\": [25, 30, 35, 40, 45, 50, 55],\n",
        "    \"Salary\": [50000, 60000, 70000, 80000, 90000, 100000, 110000],\n",
        "    \"Department\": [\"HR\", \"IT\", \"Finance\", \"IT\", \"HR\", \"Finance\", \"IT\"]\n",
        "}\n",
        "\n",
        "# Create a DataFrame\n",
        "df = pd.DataFrame(data)\n",
        "\n",
        "# Save the DataFrame as a CSV file\n",
        "df.to_csv(\"sample_data.csv\", index=False)\n",
        "\n",
        "# Confirm the file has been created\n",
        "print(\"sample_data.csv has been created.\")"
      ]
    },
    {
      "cell_type": "code",
      "source": [
        "# Read the sample CSV file\n",
        "df = pd.read_csv('sample_data.csv')\n",
        "\n",
        "# Print the first five rows of the dataset\n",
        "print(\"First Five Rows:\")\n",
        "print(df.head())\n",
        "\n",
        "# Display basic statistics of the dataset\n",
        "print(\"\\nBasic Statistics:\")\n",
        "print(df.describe())"
      ],
      "metadata": {
        "id": "_GEFdLbqMWMP",
        "outputId": "51a903bb-c003-402c-e961-440ed378135e",
        "colab": {
          "base_uri": "https://localhost:8080/"
        }
      },
      "execution_count": null,
      "outputs": [
        {
          "output_type": "stream",
          "name": "stdout",
          "text": [
            "First Five Rows:\n",
            "      Name  Age  Salary Department\n",
            "0    Alice   25   50000         HR\n",
            "1      Bob   30   60000         IT\n",
            "2  Charlie   35   70000    Finance\n",
            "3    David   40   80000         IT\n",
            "4      Eve   45   90000         HR\n",
            "\n",
            "Basic Statistics:\n",
            "             Age         Salary\n",
            "count   7.000000       7.000000\n",
            "mean   40.000000   80000.000000\n",
            "std    10.801234   21602.468995\n",
            "min    25.000000   50000.000000\n",
            "25%    32.500000   65000.000000\n",
            "50%    40.000000   80000.000000\n",
            "75%    47.500000   95000.000000\n",
            "max    55.000000  110000.000000\n"
          ]
        }
      ]
    }
  ]
}